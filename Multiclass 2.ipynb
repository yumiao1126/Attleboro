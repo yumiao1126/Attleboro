{
 "cells": [
  {
   "cell_type": "code",
   "execution_count": 1298,
   "id": "b63cc764",
   "metadata": {},
   "outputs": [],
   "source": [
    "import pandas as pd\n",
    "import numpy as np\n",
    "import seaborn as sns\n",
    "from sklearn.model_selection import train_test_split"
   ]
  },
  {
   "cell_type": "code",
   "execution_count": 1299,
   "id": "63991010",
   "metadata": {},
   "outputs": [],
   "source": [
    "from sklearn.compose import ColumnTransformer\n",
    "from sklearn.ensemble import RandomForestClassifier\n",
    "from sklearn.pipeline import Pipeline, make_pipeline\n",
    "from sklearn.preprocessing import (\n",
    "    OneHotEncoder, PowerTransformer, StandardScaler\n",
    "  )"
   ]
  },
  {
   "cell_type": "code",
   "execution_count": 1300,
   "id": "f09a9c02",
   "metadata": {},
   "outputs": [],
   "source": [
    "from matplotlib import pyplot as plt\n",
    "from sklearn.metrics import ConfusionMatrixDisplay, confusion_matrix\n",
    "from sklearn.metrics import classification_report"
   ]
  },
  {
   "cell_type": "code",
   "execution_count": 1347,
   "id": "7f24ba5c",
   "metadata": {},
   "outputs": [
    {
     "name": "stdout",
     "output_type": "stream",
     "text": [
      "Collecting matplotlib==3.3.4\n",
      "  Downloading matplotlib-3.3.4-cp38-cp38-macosx_10_9_x86_64.whl (8.5 MB)\n",
      "\u001b[K     |████████████████████████████████| 8.5 MB 403 kB/s eta 0:00:01\n",
      "\u001b[?25hRequirement already satisfied: pyparsing!=2.0.4,!=2.1.2,!=2.1.6,>=2.0.3 in /Users/miaoyu/opt/anaconda3/lib/python3.8/site-packages (from matplotlib==3.3.4) (2.4.7)\n",
      "Requirement already satisfied: python-dateutil>=2.1 in /Users/miaoyu/opt/anaconda3/lib/python3.8/site-packages (from matplotlib==3.3.4) (2.8.1)\n",
      "Requirement already satisfied: kiwisolver>=1.0.1 in /Users/miaoyu/opt/anaconda3/lib/python3.8/site-packages (from matplotlib==3.3.4) (1.3.1)\n",
      "Requirement already satisfied: numpy>=1.15 in /Users/miaoyu/opt/anaconda3/lib/python3.8/site-packages (from matplotlib==3.3.4) (1.20.1)\n",
      "Requirement already satisfied: cycler>=0.10 in /Users/miaoyu/opt/anaconda3/lib/python3.8/site-packages (from matplotlib==3.3.4) (0.10.0)\n",
      "Requirement already satisfied: pillow>=6.2.0 in /Users/miaoyu/opt/anaconda3/lib/python3.8/site-packages (from matplotlib==3.3.4) (8.2.0)\n",
      "Requirement already satisfied: six in /Users/miaoyu/opt/anaconda3/lib/python3.8/site-packages (from cycler>=0.10->matplotlib==3.3.4) (1.15.0)\n",
      "Installing collected packages: matplotlib\n",
      "  Attempting uninstall: matplotlib\n",
      "    Found existing installation: matplotlib 3.2.2\n",
      "    Uninstalling matplotlib-3.2.2:\n",
      "      Successfully uninstalled matplotlib-3.2.2\n",
      "Successfully installed matplotlib-3.3.4\n",
      "Note: you may need to restart the kernel to use updated packages.\n"
     ]
    }
   ],
   "source": [
    "pip install 'matplotlib==3.3.4'"
   ]
  },
  {
   "cell_type": "code",
   "execution_count": 1374,
   "id": "920d61d9",
   "metadata": {},
   "outputs": [
    {
     "data": {
      "text/plain": [
       "Index(['Crash Time_DATE', 'ID', 'Month', 'Day of week',\n",
       "       'Road Surface Condition', 'Ambient Light', 'Weather Condition', 'PRCP',\n",
       "       'SNOW', 'TMAX', 'TMIN', 'lon', 'lat', 'label', 'year', 'month', 'day',\n",
       "       'hour', 'hour_category', 'season', 'week'],\n",
       "      dtype='object')"
      ]
     },
     "execution_count": 1374,
     "metadata": {},
     "output_type": "execute_result"
    }
   ],
   "source": [
    "data=pd.read_csv(\"/Users/miaoyu/Desktop/fff6.csv\")\n",
    "\n",
    "data.columns"
   ]
  },
  {
   "cell_type": "code",
   "execution_count": 1375,
   "id": "a721f477",
   "metadata": {},
   "outputs": [
    {
     "data": {
      "text/html": [
       "<div>\n",
       "<style scoped>\n",
       "    .dataframe tbody tr th:only-of-type {\n",
       "        vertical-align: middle;\n",
       "    }\n",
       "\n",
       "    .dataframe tbody tr th {\n",
       "        vertical-align: top;\n",
       "    }\n",
       "\n",
       "    .dataframe thead th {\n",
       "        text-align: right;\n",
       "    }\n",
       "</style>\n",
       "<table border=\"1\" class=\"dataframe\">\n",
       "  <thead>\n",
       "    <tr style=\"text-align: right;\">\n",
       "      <th></th>\n",
       "      <th>Crash Time_DATE</th>\n",
       "      <th>ID</th>\n",
       "      <th>Month</th>\n",
       "      <th>Day of week</th>\n",
       "      <th>Road Surface Condition</th>\n",
       "      <th>Ambient Light</th>\n",
       "      <th>Weather Condition</th>\n",
       "      <th>PRCP</th>\n",
       "      <th>SNOW</th>\n",
       "      <th>TMAX</th>\n",
       "      <th>...</th>\n",
       "      <th>lon</th>\n",
       "      <th>lat</th>\n",
       "      <th>label</th>\n",
       "      <th>year</th>\n",
       "      <th>month</th>\n",
       "      <th>day</th>\n",
       "      <th>hour</th>\n",
       "      <th>hour_category</th>\n",
       "      <th>season</th>\n",
       "      <th>week</th>\n",
       "    </tr>\n",
       "  </thead>\n",
       "  <tbody>\n",
       "    <tr>\n",
       "      <th>0</th>\n",
       "      <td>2002-01-01 12:00:00</td>\n",
       "      <td>1</td>\n",
       "      <td>January</td>\n",
       "      <td>Tuesday</td>\n",
       "      <td>Dry</td>\n",
       "      <td>Daylight</td>\n",
       "      <td>Clear</td>\n",
       "      <td>0.0</td>\n",
       "      <td>0.0</td>\n",
       "      <td>36</td>\n",
       "      <td>...</td>\n",
       "      <td>41.948610</td>\n",
       "      <td>-71.277587</td>\n",
       "      <td>8</td>\n",
       "      <td>2002</td>\n",
       "      <td>1</td>\n",
       "      <td>1</td>\n",
       "      <td>12</td>\n",
       "      <td>day</td>\n",
       "      <td>1.0</td>\n",
       "      <td>1.0</td>\n",
       "    </tr>\n",
       "    <tr>\n",
       "      <th>1</th>\n",
       "      <td>2002-01-02 04:26:00</td>\n",
       "      <td>2</td>\n",
       "      <td>January</td>\n",
       "      <td>Wednesday</td>\n",
       "      <td>Dry</td>\n",
       "      <td>Dusk</td>\n",
       "      <td>Clear</td>\n",
       "      <td>0.0</td>\n",
       "      <td>0.0</td>\n",
       "      <td>39</td>\n",
       "      <td>...</td>\n",
       "      <td>41.932683</td>\n",
       "      <td>-71.296220</td>\n",
       "      <td>8</td>\n",
       "      <td>2002</td>\n",
       "      <td>1</td>\n",
       "      <td>2</td>\n",
       "      <td>4</td>\n",
       "      <td>night</td>\n",
       "      <td>1.0</td>\n",
       "      <td>1.0</td>\n",
       "    </tr>\n",
       "    <tr>\n",
       "      <th>2</th>\n",
       "      <td>2002-01-02 05:10:00</td>\n",
       "      <td>3</td>\n",
       "      <td>January</td>\n",
       "      <td>Wednesday</td>\n",
       "      <td>Wet</td>\n",
       "      <td>Dark - lighted roadway</td>\n",
       "      <td>Rain</td>\n",
       "      <td>0.0</td>\n",
       "      <td>0.0</td>\n",
       "      <td>39</td>\n",
       "      <td>...</td>\n",
       "      <td>41.948334</td>\n",
       "      <td>-71.277947</td>\n",
       "      <td>8</td>\n",
       "      <td>2002</td>\n",
       "      <td>1</td>\n",
       "      <td>2</td>\n",
       "      <td>5</td>\n",
       "      <td>night</td>\n",
       "      <td>1.0</td>\n",
       "      <td>1.0</td>\n",
       "    </tr>\n",
       "    <tr>\n",
       "      <th>3</th>\n",
       "      <td>2002-01-02 11:10:00</td>\n",
       "      <td>5</td>\n",
       "      <td>January</td>\n",
       "      <td>Wednesday</td>\n",
       "      <td>Dry</td>\n",
       "      <td>Daylight</td>\n",
       "      <td>Clear</td>\n",
       "      <td>0.0</td>\n",
       "      <td>0.0</td>\n",
       "      <td>39</td>\n",
       "      <td>...</td>\n",
       "      <td>41.938218</td>\n",
       "      <td>-71.291080</td>\n",
       "      <td>8</td>\n",
       "      <td>2002</td>\n",
       "      <td>1</td>\n",
       "      <td>2</td>\n",
       "      <td>11</td>\n",
       "      <td>day</td>\n",
       "      <td>1.0</td>\n",
       "      <td>1.0</td>\n",
       "    </tr>\n",
       "    <tr>\n",
       "      <th>4</th>\n",
       "      <td>2002-01-03 16:37:00</td>\n",
       "      <td>10</td>\n",
       "      <td>January</td>\n",
       "      <td>Thursday</td>\n",
       "      <td>Dry</td>\n",
       "      <td>Dusk</td>\n",
       "      <td>Clear</td>\n",
       "      <td>0.0</td>\n",
       "      <td>0.0</td>\n",
       "      <td>38</td>\n",
       "      <td>...</td>\n",
       "      <td>41.943135</td>\n",
       "      <td>-71.271522</td>\n",
       "      <td>8</td>\n",
       "      <td>2002</td>\n",
       "      <td>1</td>\n",
       "      <td>3</td>\n",
       "      <td>16</td>\n",
       "      <td>rush</td>\n",
       "      <td>1.0</td>\n",
       "      <td>1.0</td>\n",
       "    </tr>\n",
       "    <tr>\n",
       "      <th>...</th>\n",
       "      <td>...</td>\n",
       "      <td>...</td>\n",
       "      <td>...</td>\n",
       "      <td>...</td>\n",
       "      <td>...</td>\n",
       "      <td>...</td>\n",
       "      <td>...</td>\n",
       "      <td>...</td>\n",
       "      <td>...</td>\n",
       "      <td>...</td>\n",
       "      <td>...</td>\n",
       "      <td>...</td>\n",
       "      <td>...</td>\n",
       "      <td>...</td>\n",
       "      <td>...</td>\n",
       "      <td>...</td>\n",
       "      <td>...</td>\n",
       "      <td>...</td>\n",
       "      <td>...</td>\n",
       "      <td>...</td>\n",
       "      <td>...</td>\n",
       "    </tr>\n",
       "    <tr>\n",
       "      <th>15529</th>\n",
       "      <td>2021-11-30 10:15:00</td>\n",
       "      <td>21488</td>\n",
       "      <td>November</td>\n",
       "      <td>Tuesday</td>\n",
       "      <td>Dry</td>\n",
       "      <td>Daylight</td>\n",
       "      <td>Clear</td>\n",
       "      <td>0.0</td>\n",
       "      <td>0.0</td>\n",
       "      <td>39</td>\n",
       "      <td>...</td>\n",
       "      <td>41.934056</td>\n",
       "      <td>-71.315769</td>\n",
       "      <td>5</td>\n",
       "      <td>2021</td>\n",
       "      <td>11</td>\n",
       "      <td>30</td>\n",
       "      <td>10</td>\n",
       "      <td>day</td>\n",
       "      <td>4.0</td>\n",
       "      <td>4.0</td>\n",
       "    </tr>\n",
       "    <tr>\n",
       "      <th>15530</th>\n",
       "      <td>2021-11-30 14:49:00</td>\n",
       "      <td>21489</td>\n",
       "      <td>November</td>\n",
       "      <td>Tuesday</td>\n",
       "      <td>Dry</td>\n",
       "      <td>Daylight</td>\n",
       "      <td>Cloudy</td>\n",
       "      <td>0.0</td>\n",
       "      <td>0.0</td>\n",
       "      <td>39</td>\n",
       "      <td>...</td>\n",
       "      <td>41.933970</td>\n",
       "      <td>-71.310037</td>\n",
       "      <td>5</td>\n",
       "      <td>2021</td>\n",
       "      <td>11</td>\n",
       "      <td>30</td>\n",
       "      <td>14</td>\n",
       "      <td>day</td>\n",
       "      <td>4.0</td>\n",
       "      <td>4.0</td>\n",
       "    </tr>\n",
       "    <tr>\n",
       "      <th>15531</th>\n",
       "      <td>2021-11-30 16:01:00</td>\n",
       "      <td>21490</td>\n",
       "      <td>November</td>\n",
       "      <td>Tuesday</td>\n",
       "      <td>Dry</td>\n",
       "      <td>Daylight</td>\n",
       "      <td>Clear</td>\n",
       "      <td>0.0</td>\n",
       "      <td>0.0</td>\n",
       "      <td>39</td>\n",
       "      <td>...</td>\n",
       "      <td>41.954814</td>\n",
       "      <td>-71.304793</td>\n",
       "      <td>8</td>\n",
       "      <td>2021</td>\n",
       "      <td>11</td>\n",
       "      <td>30</td>\n",
       "      <td>16</td>\n",
       "      <td>rush</td>\n",
       "      <td>4.0</td>\n",
       "      <td>4.0</td>\n",
       "    </tr>\n",
       "    <tr>\n",
       "      <th>15532</th>\n",
       "      <td>2021-11-30 23:27:00</td>\n",
       "      <td>21491</td>\n",
       "      <td>November</td>\n",
       "      <td>Tuesday</td>\n",
       "      <td>Dry</td>\n",
       "      <td>Dark - lighted roadway</td>\n",
       "      <td>Clear</td>\n",
       "      <td>0.0</td>\n",
       "      <td>0.0</td>\n",
       "      <td>39</td>\n",
       "      <td>...</td>\n",
       "      <td>41.919310</td>\n",
       "      <td>-71.299166</td>\n",
       "      <td>7</td>\n",
       "      <td>2021</td>\n",
       "      <td>11</td>\n",
       "      <td>30</td>\n",
       "      <td>23</td>\n",
       "      <td>night</td>\n",
       "      <td>4.0</td>\n",
       "      <td>4.0</td>\n",
       "    </tr>\n",
       "    <tr>\n",
       "      <th>15533</th>\n",
       "      <td>2022-01-23 09:04:00</td>\n",
       "      <td>21492</td>\n",
       "      <td>January</td>\n",
       "      <td>Sunday</td>\n",
       "      <td>Dry</td>\n",
       "      <td>Daylight</td>\n",
       "      <td>Clear</td>\n",
       "      <td>0.0</td>\n",
       "      <td>0.1</td>\n",
       "      <td>26</td>\n",
       "      <td>...</td>\n",
       "      <td>41.936284</td>\n",
       "      <td>-71.286086</td>\n",
       "      <td>8</td>\n",
       "      <td>2022</td>\n",
       "      <td>1</td>\n",
       "      <td>23</td>\n",
       "      <td>9</td>\n",
       "      <td>rush</td>\n",
       "      <td>1.0</td>\n",
       "      <td>4.0</td>\n",
       "    </tr>\n",
       "  </tbody>\n",
       "</table>\n",
       "<p>15534 rows × 21 columns</p>\n",
       "</div>"
      ],
      "text/plain": [
       "           Crash Time_DATE     ID     Month Day of week  \\\n",
       "0      2002-01-01 12:00:00      1   January     Tuesday   \n",
       "1      2002-01-02 04:26:00      2   January   Wednesday   \n",
       "2      2002-01-02 05:10:00      3   January   Wednesday   \n",
       "3      2002-01-02 11:10:00      5   January   Wednesday   \n",
       "4      2002-01-03 16:37:00     10   January    Thursday   \n",
       "...                    ...    ...       ...         ...   \n",
       "15529  2021-11-30 10:15:00  21488  November     Tuesday   \n",
       "15530  2021-11-30 14:49:00  21489  November     Tuesday   \n",
       "15531  2021-11-30 16:01:00  21490  November     Tuesday   \n",
       "15532  2021-11-30 23:27:00  21491  November     Tuesday   \n",
       "15533  2022-01-23 09:04:00  21492   January      Sunday   \n",
       "\n",
       "      Road Surface Condition           Ambient Light Weather Condition  PRCP  \\\n",
       "0                        Dry                Daylight             Clear   0.0   \n",
       "1                        Dry                    Dusk             Clear   0.0   \n",
       "2                        Wet  Dark - lighted roadway              Rain   0.0   \n",
       "3                        Dry                Daylight             Clear   0.0   \n",
       "4                        Dry                    Dusk             Clear   0.0   \n",
       "...                      ...                     ...               ...   ...   \n",
       "15529                    Dry                Daylight             Clear   0.0   \n",
       "15530                    Dry                Daylight            Cloudy   0.0   \n",
       "15531                    Dry                Daylight             Clear   0.0   \n",
       "15532                    Dry  Dark - lighted roadway             Clear   0.0   \n",
       "15533                    Dry                Daylight             Clear   0.0   \n",
       "\n",
       "       SNOW  TMAX  ...        lon        lat  label  year  month  day  hour  \\\n",
       "0       0.0    36  ...  41.948610 -71.277587      8  2002      1    1    12   \n",
       "1       0.0    39  ...  41.932683 -71.296220      8  2002      1    2     4   \n",
       "2       0.0    39  ...  41.948334 -71.277947      8  2002      1    2     5   \n",
       "3       0.0    39  ...  41.938218 -71.291080      8  2002      1    2    11   \n",
       "4       0.0    38  ...  41.943135 -71.271522      8  2002      1    3    16   \n",
       "...     ...   ...  ...        ...        ...    ...   ...    ...  ...   ...   \n",
       "15529   0.0    39  ...  41.934056 -71.315769      5  2021     11   30    10   \n",
       "15530   0.0    39  ...  41.933970 -71.310037      5  2021     11   30    14   \n",
       "15531   0.0    39  ...  41.954814 -71.304793      8  2021     11   30    16   \n",
       "15532   0.0    39  ...  41.919310 -71.299166      7  2021     11   30    23   \n",
       "15533   0.1    26  ...  41.936284 -71.286086      8  2022      1   23     9   \n",
       "\n",
       "       hour_category season  week  \n",
       "0                day    1.0   1.0  \n",
       "1              night    1.0   1.0  \n",
       "2              night    1.0   1.0  \n",
       "3                day    1.0   1.0  \n",
       "4               rush    1.0   1.0  \n",
       "...              ...    ...   ...  \n",
       "15529            day    4.0   4.0  \n",
       "15530            day    4.0   4.0  \n",
       "15531           rush    4.0   4.0  \n",
       "15532          night    4.0   4.0  \n",
       "15533           rush    1.0   4.0  \n",
       "\n",
       "[15534 rows x 21 columns]"
      ]
     },
     "execution_count": 1375,
     "metadata": {},
     "output_type": "execute_result"
    }
   ],
   "source": [
    "data"
   ]
  },
  {
   "cell_type": "code",
   "execution_count": 1400,
   "id": "353821f0",
   "metadata": {},
   "outputs": [
    {
     "data": {
      "text/html": [
       "<div>\n",
       "<style scoped>\n",
       "    .dataframe tbody tr th:only-of-type {\n",
       "        vertical-align: middle;\n",
       "    }\n",
       "\n",
       "    .dataframe tbody tr th {\n",
       "        vertical-align: top;\n",
       "    }\n",
       "\n",
       "    .dataframe thead th {\n",
       "        text-align: right;\n",
       "    }\n",
       "</style>\n",
       "<table border=\"1\" class=\"dataframe\">\n",
       "  <thead>\n",
       "    <tr style=\"text-align: right;\">\n",
       "      <th></th>\n",
       "      <th>Road Surface Condition</th>\n",
       "      <th>Ambient Light</th>\n",
       "      <th>Weather Condition</th>\n",
       "      <th>PRCP</th>\n",
       "      <th>SNOW</th>\n",
       "      <th>TMAX</th>\n",
       "      <th>TMIN</th>\n",
       "      <th>label</th>\n",
       "      <th>hour_category</th>\n",
       "      <th>season</th>\n",
       "    </tr>\n",
       "  </thead>\n",
       "  <tbody>\n",
       "    <tr>\n",
       "      <th>0</th>\n",
       "      <td>Dry</td>\n",
       "      <td>Daylight</td>\n",
       "      <td>Clear</td>\n",
       "      <td>0.0</td>\n",
       "      <td>0.0</td>\n",
       "      <td>36</td>\n",
       "      <td>13</td>\n",
       "      <td>8</td>\n",
       "      <td>day</td>\n",
       "      <td>1.0</td>\n",
       "    </tr>\n",
       "    <tr>\n",
       "      <th>1</th>\n",
       "      <td>Dry</td>\n",
       "      <td>Dusk</td>\n",
       "      <td>Clear</td>\n",
       "      <td>0.0</td>\n",
       "      <td>0.0</td>\n",
       "      <td>39</td>\n",
       "      <td>19</td>\n",
       "      <td>8</td>\n",
       "      <td>night</td>\n",
       "      <td>1.0</td>\n",
       "    </tr>\n",
       "    <tr>\n",
       "      <th>2</th>\n",
       "      <td>Wet</td>\n",
       "      <td>Dark - lighted roadway</td>\n",
       "      <td>Rain</td>\n",
       "      <td>0.0</td>\n",
       "      <td>0.0</td>\n",
       "      <td>39</td>\n",
       "      <td>19</td>\n",
       "      <td>8</td>\n",
       "      <td>night</td>\n",
       "      <td>1.0</td>\n",
       "    </tr>\n",
       "    <tr>\n",
       "      <th>3</th>\n",
       "      <td>Dry</td>\n",
       "      <td>Daylight</td>\n",
       "      <td>Clear</td>\n",
       "      <td>0.0</td>\n",
       "      <td>0.0</td>\n",
       "      <td>39</td>\n",
       "      <td>19</td>\n",
       "      <td>8</td>\n",
       "      <td>day</td>\n",
       "      <td>1.0</td>\n",
       "    </tr>\n",
       "    <tr>\n",
       "      <th>4</th>\n",
       "      <td>Dry</td>\n",
       "      <td>Dusk</td>\n",
       "      <td>Clear</td>\n",
       "      <td>0.0</td>\n",
       "      <td>0.0</td>\n",
       "      <td>38</td>\n",
       "      <td>22</td>\n",
       "      <td>8</td>\n",
       "      <td>rush</td>\n",
       "      <td>1.0</td>\n",
       "    </tr>\n",
       "    <tr>\n",
       "      <th>...</th>\n",
       "      <td>...</td>\n",
       "      <td>...</td>\n",
       "      <td>...</td>\n",
       "      <td>...</td>\n",
       "      <td>...</td>\n",
       "      <td>...</td>\n",
       "      <td>...</td>\n",
       "      <td>...</td>\n",
       "      <td>...</td>\n",
       "      <td>...</td>\n",
       "    </tr>\n",
       "    <tr>\n",
       "      <th>15529</th>\n",
       "      <td>Dry</td>\n",
       "      <td>Daylight</td>\n",
       "      <td>Clear</td>\n",
       "      <td>0.0</td>\n",
       "      <td>0.0</td>\n",
       "      <td>39</td>\n",
       "      <td>21</td>\n",
       "      <td>5</td>\n",
       "      <td>day</td>\n",
       "      <td>4.0</td>\n",
       "    </tr>\n",
       "    <tr>\n",
       "      <th>15530</th>\n",
       "      <td>Dry</td>\n",
       "      <td>Daylight</td>\n",
       "      <td>Cloudy</td>\n",
       "      <td>0.0</td>\n",
       "      <td>0.0</td>\n",
       "      <td>39</td>\n",
       "      <td>21</td>\n",
       "      <td>5</td>\n",
       "      <td>day</td>\n",
       "      <td>4.0</td>\n",
       "    </tr>\n",
       "    <tr>\n",
       "      <th>15531</th>\n",
       "      <td>Dry</td>\n",
       "      <td>Daylight</td>\n",
       "      <td>Clear</td>\n",
       "      <td>0.0</td>\n",
       "      <td>0.0</td>\n",
       "      <td>39</td>\n",
       "      <td>21</td>\n",
       "      <td>8</td>\n",
       "      <td>rush</td>\n",
       "      <td>4.0</td>\n",
       "    </tr>\n",
       "    <tr>\n",
       "      <th>15532</th>\n",
       "      <td>Dry</td>\n",
       "      <td>Dark - lighted roadway</td>\n",
       "      <td>Clear</td>\n",
       "      <td>0.0</td>\n",
       "      <td>0.0</td>\n",
       "      <td>39</td>\n",
       "      <td>21</td>\n",
       "      <td>7</td>\n",
       "      <td>night</td>\n",
       "      <td>4.0</td>\n",
       "    </tr>\n",
       "    <tr>\n",
       "      <th>15533</th>\n",
       "      <td>Dry</td>\n",
       "      <td>Daylight</td>\n",
       "      <td>Clear</td>\n",
       "      <td>0.0</td>\n",
       "      <td>0.1</td>\n",
       "      <td>26</td>\n",
       "      <td>10</td>\n",
       "      <td>8</td>\n",
       "      <td>rush</td>\n",
       "      <td>1.0</td>\n",
       "    </tr>\n",
       "  </tbody>\n",
       "</table>\n",
       "<p>15534 rows × 10 columns</p>\n",
       "</div>"
      ],
      "text/plain": [
       "      Road Surface Condition           Ambient Light Weather Condition  PRCP  \\\n",
       "0                        Dry                Daylight             Clear   0.0   \n",
       "1                        Dry                    Dusk             Clear   0.0   \n",
       "2                        Wet  Dark - lighted roadway              Rain   0.0   \n",
       "3                        Dry                Daylight             Clear   0.0   \n",
       "4                        Dry                    Dusk             Clear   0.0   \n",
       "...                      ...                     ...               ...   ...   \n",
       "15529                    Dry                Daylight             Clear   0.0   \n",
       "15530                    Dry                Daylight            Cloudy   0.0   \n",
       "15531                    Dry                Daylight             Clear   0.0   \n",
       "15532                    Dry  Dark - lighted roadway             Clear   0.0   \n",
       "15533                    Dry                Daylight             Clear   0.0   \n",
       "\n",
       "       SNOW  TMAX  TMIN  label hour_category  season  \n",
       "0       0.0    36    13      8           day     1.0  \n",
       "1       0.0    39    19      8         night     1.0  \n",
       "2       0.0    39    19      8         night     1.0  \n",
       "3       0.0    39    19      8           day     1.0  \n",
       "4       0.0    38    22      8          rush     1.0  \n",
       "...     ...   ...   ...    ...           ...     ...  \n",
       "15529   0.0    39    21      5           day     4.0  \n",
       "15530   0.0    39    21      5           day     4.0  \n",
       "15531   0.0    39    21      8          rush     4.0  \n",
       "15532   0.0    39    21      7         night     4.0  \n",
       "15533   0.1    26    10      8          rush     1.0  \n",
       "\n",
       "[15534 rows x 10 columns]"
      ]
     },
     "execution_count": 1400,
     "metadata": {},
     "output_type": "execute_result"
    }
   ],
   "source": [
    "data1 = data.drop(['Crash Time_DATE', 'ID', 'Month', 'Day of week',\n",
    "       'lon', 'lat', 'year', 'month', 'day',\n",
    "       'hour', 'week'], axis = 1)\n",
    "\n",
    "data1"
   ]
  },
  {
   "cell_type": "code",
   "execution_count": 1401,
   "id": "b26fdea5",
   "metadata": {},
   "outputs": [
    {
     "data": {
      "text/plain": [
       "Dry                             11638\n",
       "Wet                              2906\n",
       "Snow                              570\n",
       "Ice                               172\n",
       "0                                  99\n",
       "Sand, mud, dirt, oil, gravel       62\n",
       "Slush                              55\n",
       "Water (standing, moving)           21\n",
       "Other                              11\n",
       "Name: Road Surface Condition, dtype: int64"
      ]
     },
     "execution_count": 1401,
     "metadata": {},
     "output_type": "execute_result"
    }
   ],
   "source": [
    "data1['Road Surface Condition'].value_counts()"
   ]
  },
  {
   "cell_type": "code",
   "execution_count": 1402,
   "id": "3e8337fb",
   "metadata": {},
   "outputs": [
    {
     "data": {
      "text/plain": [
       "Daylight                      11126\n",
       "Dark - lighted roadway         3001\n",
       "Dark - roadway not lighted      708\n",
       "Dusk                            405\n",
       "Dawn                            200\n",
       "Dark - 0 roadway lighting        50\n",
       "0                                33\n",
       "Other                            11\n",
       "Name: Ambient Light, dtype: int64"
      ]
     },
     "execution_count": 1402,
     "metadata": {},
     "output_type": "execute_result"
    }
   ],
   "source": [
    "data1['Ambient Light'].value_counts()"
   ]
  },
  {
   "cell_type": "code",
   "execution_count": 1403,
   "id": "da3fd0de",
   "metadata": {},
   "outputs": [],
   "source": [
    "data1.drop(data1.loc[data1['Road Surface Condition']=='0'].index, inplace=True)\n",
    "data1.drop(data1.loc[data1['Road Surface Condition']=='Other'].index, inplace=True)"
   ]
  },
  {
   "cell_type": "code",
   "execution_count": 1404,
   "id": "2e0d7b95",
   "metadata": {},
   "outputs": [],
   "source": [
    "data1.drop(data1.loc[data1['Ambient Light']=='0'].index, inplace=True)\n",
    "data1.drop(data1.loc[data1['Ambient Light']=='Other'].index, inplace=True)"
   ]
  },
  {
   "cell_type": "code",
   "execution_count": 1405,
   "id": "0f313f11",
   "metadata": {},
   "outputs": [
    {
     "data": {
      "text/plain": [
       "Dry                             11609\n",
       "Wet                              2894\n",
       "Snow                              569\n",
       "Ice                               172\n",
       "Sand, mud, dirt, oil, gravel       62\n",
       "Slush                              55\n",
       "Water (standing, moving)           21\n",
       "Name: Road Surface Condition, dtype: int64"
      ]
     },
     "execution_count": 1405,
     "metadata": {},
     "output_type": "execute_result"
    }
   ],
   "source": [
    "data1['Road Surface Condition'].value_counts()"
   ]
  },
  {
   "cell_type": "code",
   "execution_count": 1406,
   "id": "6b8d2d53",
   "metadata": {},
   "outputs": [
    {
     "data": {
      "text/plain": [
       "Daylight                      11057\n",
       "Dark - lighted roadway         2968\n",
       "Dark - roadway not lighted      707\n",
       "Dusk                            403\n",
       "Dawn                            197\n",
       "Dark - 0 roadway lighting        50\n",
       "Name: Ambient Light, dtype: int64"
      ]
     },
     "execution_count": 1406,
     "metadata": {},
     "output_type": "execute_result"
    }
   ],
   "source": [
    "data1['Ambient Light'].value_counts()"
   ]
  },
  {
   "cell_type": "code",
   "execution_count": 1407,
   "id": "70ee93dd",
   "metadata": {},
   "outputs": [
    {
     "data": {
      "text/plain": [
       "Road Surface Condition     object\n",
       "Ambient Light              object\n",
       "Weather Condition          object\n",
       "PRCP                      float64\n",
       "SNOW                      float64\n",
       "TMAX                        int64\n",
       "TMIN                        int64\n",
       "label                       int64\n",
       "hour_category              object\n",
       "season                    float64\n",
       "dtype: object"
      ]
     },
     "execution_count": 1407,
     "metadata": {},
     "output_type": "execute_result"
    }
   ],
   "source": [
    "data1.dtypes"
   ]
  },
  {
   "cell_type": "code",
   "execution_count": 1408,
   "id": "4db35492",
   "metadata": {},
   "outputs": [],
   "source": [
    "data1['label']=data1['label'].apply(str)"
   ]
  },
  {
   "cell_type": "code",
   "execution_count": 1409,
   "id": "6be33f41",
   "metadata": {},
   "outputs": [],
   "source": [
    "data1['season']=data1['season'].apply(str)"
   ]
  },
  {
   "cell_type": "code",
   "execution_count": 1410,
   "id": "52615afd",
   "metadata": {},
   "outputs": [
    {
     "data": {
      "text/html": [
       "<div>\n",
       "<style scoped>\n",
       "    .dataframe tbody tr th:only-of-type {\n",
       "        vertical-align: middle;\n",
       "    }\n",
       "\n",
       "    .dataframe tbody tr th {\n",
       "        vertical-align: top;\n",
       "    }\n",
       "\n",
       "    .dataframe thead th {\n",
       "        text-align: right;\n",
       "    }\n",
       "</style>\n",
       "<table border=\"1\" class=\"dataframe\">\n",
       "  <thead>\n",
       "    <tr style=\"text-align: right;\">\n",
       "      <th></th>\n",
       "      <th>Road Surface Condition</th>\n",
       "      <th>Ambient Light</th>\n",
       "      <th>Weather Condition</th>\n",
       "      <th>PRCP</th>\n",
       "      <th>SNOW</th>\n",
       "      <th>TMAX</th>\n",
       "      <th>TMIN</th>\n",
       "      <th>label</th>\n",
       "      <th>hour_category</th>\n",
       "      <th>season</th>\n",
       "    </tr>\n",
       "  </thead>\n",
       "  <tbody>\n",
       "    <tr>\n",
       "      <th>0</th>\n",
       "      <td>Dry</td>\n",
       "      <td>Daylight</td>\n",
       "      <td>Clear</td>\n",
       "      <td>0.0</td>\n",
       "      <td>0.0</td>\n",
       "      <td>36</td>\n",
       "      <td>13</td>\n",
       "      <td>8</td>\n",
       "      <td>day</td>\n",
       "      <td>1.0</td>\n",
       "    </tr>\n",
       "    <tr>\n",
       "      <th>1</th>\n",
       "      <td>Dry</td>\n",
       "      <td>Dusk</td>\n",
       "      <td>Clear</td>\n",
       "      <td>0.0</td>\n",
       "      <td>0.0</td>\n",
       "      <td>39</td>\n",
       "      <td>19</td>\n",
       "      <td>8</td>\n",
       "      <td>night</td>\n",
       "      <td>1.0</td>\n",
       "    </tr>\n",
       "    <tr>\n",
       "      <th>2</th>\n",
       "      <td>Wet</td>\n",
       "      <td>Dark - lighted roadway</td>\n",
       "      <td>Rain</td>\n",
       "      <td>0.0</td>\n",
       "      <td>0.0</td>\n",
       "      <td>39</td>\n",
       "      <td>19</td>\n",
       "      <td>8</td>\n",
       "      <td>night</td>\n",
       "      <td>1.0</td>\n",
       "    </tr>\n",
       "    <tr>\n",
       "      <th>3</th>\n",
       "      <td>Dry</td>\n",
       "      <td>Daylight</td>\n",
       "      <td>Clear</td>\n",
       "      <td>0.0</td>\n",
       "      <td>0.0</td>\n",
       "      <td>39</td>\n",
       "      <td>19</td>\n",
       "      <td>8</td>\n",
       "      <td>day</td>\n",
       "      <td>1.0</td>\n",
       "    </tr>\n",
       "    <tr>\n",
       "      <th>4</th>\n",
       "      <td>Dry</td>\n",
       "      <td>Dusk</td>\n",
       "      <td>Clear</td>\n",
       "      <td>0.0</td>\n",
       "      <td>0.0</td>\n",
       "      <td>38</td>\n",
       "      <td>22</td>\n",
       "      <td>8</td>\n",
       "      <td>rush</td>\n",
       "      <td>1.0</td>\n",
       "    </tr>\n",
       "    <tr>\n",
       "      <th>...</th>\n",
       "      <td>...</td>\n",
       "      <td>...</td>\n",
       "      <td>...</td>\n",
       "      <td>...</td>\n",
       "      <td>...</td>\n",
       "      <td>...</td>\n",
       "      <td>...</td>\n",
       "      <td>...</td>\n",
       "      <td>...</td>\n",
       "      <td>...</td>\n",
       "    </tr>\n",
       "    <tr>\n",
       "      <th>15529</th>\n",
       "      <td>Dry</td>\n",
       "      <td>Daylight</td>\n",
       "      <td>Clear</td>\n",
       "      <td>0.0</td>\n",
       "      <td>0.0</td>\n",
       "      <td>39</td>\n",
       "      <td>21</td>\n",
       "      <td>5</td>\n",
       "      <td>day</td>\n",
       "      <td>4.0</td>\n",
       "    </tr>\n",
       "    <tr>\n",
       "      <th>15530</th>\n",
       "      <td>Dry</td>\n",
       "      <td>Daylight</td>\n",
       "      <td>Cloudy</td>\n",
       "      <td>0.0</td>\n",
       "      <td>0.0</td>\n",
       "      <td>39</td>\n",
       "      <td>21</td>\n",
       "      <td>5</td>\n",
       "      <td>day</td>\n",
       "      <td>4.0</td>\n",
       "    </tr>\n",
       "    <tr>\n",
       "      <th>15531</th>\n",
       "      <td>Dry</td>\n",
       "      <td>Daylight</td>\n",
       "      <td>Clear</td>\n",
       "      <td>0.0</td>\n",
       "      <td>0.0</td>\n",
       "      <td>39</td>\n",
       "      <td>21</td>\n",
       "      <td>8</td>\n",
       "      <td>rush</td>\n",
       "      <td>4.0</td>\n",
       "    </tr>\n",
       "    <tr>\n",
       "      <th>15532</th>\n",
       "      <td>Dry</td>\n",
       "      <td>Dark - lighted roadway</td>\n",
       "      <td>Clear</td>\n",
       "      <td>0.0</td>\n",
       "      <td>0.0</td>\n",
       "      <td>39</td>\n",
       "      <td>21</td>\n",
       "      <td>7</td>\n",
       "      <td>night</td>\n",
       "      <td>4.0</td>\n",
       "    </tr>\n",
       "    <tr>\n",
       "      <th>15533</th>\n",
       "      <td>Dry</td>\n",
       "      <td>Daylight</td>\n",
       "      <td>Clear</td>\n",
       "      <td>0.0</td>\n",
       "      <td>0.1</td>\n",
       "      <td>26</td>\n",
       "      <td>10</td>\n",
       "      <td>8</td>\n",
       "      <td>rush</td>\n",
       "      <td>1.0</td>\n",
       "    </tr>\n",
       "  </tbody>\n",
       "</table>\n",
       "<p>15382 rows × 10 columns</p>\n",
       "</div>"
      ],
      "text/plain": [
       "      Road Surface Condition           Ambient Light Weather Condition  PRCP  \\\n",
       "0                        Dry                Daylight             Clear   0.0   \n",
       "1                        Dry                    Dusk             Clear   0.0   \n",
       "2                        Wet  Dark - lighted roadway              Rain   0.0   \n",
       "3                        Dry                Daylight             Clear   0.0   \n",
       "4                        Dry                    Dusk             Clear   0.0   \n",
       "...                      ...                     ...               ...   ...   \n",
       "15529                    Dry                Daylight             Clear   0.0   \n",
       "15530                    Dry                Daylight            Cloudy   0.0   \n",
       "15531                    Dry                Daylight             Clear   0.0   \n",
       "15532                    Dry  Dark - lighted roadway             Clear   0.0   \n",
       "15533                    Dry                Daylight             Clear   0.0   \n",
       "\n",
       "       SNOW  TMAX  TMIN label hour_category season  \n",
       "0       0.0    36    13     8           day    1.0  \n",
       "1       0.0    39    19     8         night    1.0  \n",
       "2       0.0    39    19     8         night    1.0  \n",
       "3       0.0    39    19     8           day    1.0  \n",
       "4       0.0    38    22     8          rush    1.0  \n",
       "...     ...   ...   ...   ...           ...    ...  \n",
       "15529   0.0    39    21     5           day    4.0  \n",
       "15530   0.0    39    21     5           day    4.0  \n",
       "15531   0.0    39    21     8          rush    4.0  \n",
       "15532   0.0    39    21     7         night    4.0  \n",
       "15533   0.1    26    10     8          rush    1.0  \n",
       "\n",
       "[15382 rows x 10 columns]"
      ]
     },
     "execution_count": 1410,
     "metadata": {},
     "output_type": "execute_result"
    }
   ],
   "source": [
    "data1"
   ]
  },
  {
   "cell_type": "code",
   "execution_count": 1411,
   "id": "d39025c8",
   "metadata": {},
   "outputs": [
    {
     "data": {
      "text/plain": [
       "Road Surface Condition     object\n",
       "Ambient Light              object\n",
       "Weather Condition          object\n",
       "PRCP                      float64\n",
       "SNOW                      float64\n",
       "TMAX                        int64\n",
       "TMIN                        int64\n",
       "label                      object\n",
       "hour_category              object\n",
       "season                     object\n",
       "dtype: object"
      ]
     },
     "execution_count": 1411,
     "metadata": {},
     "output_type": "execute_result"
    }
   ],
   "source": [
    "data1.dtypes"
   ]
  },
  {
   "cell_type": "code",
   "execution_count": 1412,
   "id": "bae84f77",
   "metadata": {},
   "outputs": [
    {
     "data": {
      "text/plain": [
       "8    6625\n",
       "1    4870\n",
       "5    1425\n",
       "9    1207\n",
       "2     910\n",
       "4     210\n",
       "7     135\n",
       "Name: label, dtype: int64"
      ]
     },
     "execution_count": 1412,
     "metadata": {},
     "output_type": "execute_result"
    }
   ],
   "source": [
    "data1['label'].value_counts()"
   ]
  },
  {
   "cell_type": "code",
   "execution_count": 1359,
   "id": "3f55f83e",
   "metadata": {},
   "outputs": [],
   "source": [
    "data1.drop(data1.loc[data1['label']=='296'].index, inplace=True)\n",
    "data1.drop(data1.loc[data1['label']=='227'].index, inplace=True)\n",
    "data1.drop(data1.loc[data1['label']=='77'].index, inplace=True)\n",
    "data1.drop(data1.loc[data1['label']=='203'].index, inplace=True)\n",
    "data1.drop(data1.loc[data1['label']=='314'].index, inplace=True)\n",
    "data1.drop(data1.loc[data1['label']=='55'].index, inplace=True)"
   ]
  },
  {
   "cell_type": "code",
   "execution_count": 1360,
   "id": "8b3267d2",
   "metadata": {},
   "outputs": [
    {
     "data": {
      "text/plain": [
       "74     1079\n",
       "60      860\n",
       "299     746\n",
       "280     727\n",
       "79      668\n",
       "       ... \n",
       "300       3\n",
       "98        3\n",
       "230       3\n",
       "76        2\n",
       "247       2\n",
       "Name: label, Length: 81, dtype: int64"
      ]
     },
     "execution_count": 1360,
     "metadata": {},
     "output_type": "execute_result"
    }
   ],
   "source": [
    "data1['label'].value_counts()"
   ]
  },
  {
   "cell_type": "code",
   "execution_count": 1361,
   "id": "59040b4c",
   "metadata": {},
   "outputs": [
    {
     "data": {
      "text/plain": [
       "array([[<AxesSubplot:title={'center':'PRCP'}>,\n",
       "        <AxesSubplot:title={'center':'SNOW'}>],\n",
       "       [<AxesSubplot:title={'center':'TMAX'}>,\n",
       "        <AxesSubplot:title={'center':'TMIN'}>]], dtype=object)"
      ]
     },
     "execution_count": 1361,
     "metadata": {},
     "output_type": "execute_result"
    },
    {
     "data": {
      "image/png": "[encoded data removed]",
      "text/plain": [
       "<Figure size 864x720 with 4 Axes>"
      ]
     },
     "metadata": {
      "needs_background": "light"
     },
     "output_type": "display_data"
    }
   ],
   "source": [
    "data1.hist(figsize=(12,10))"
   ]
  },
  {
   "cell_type": "code",
   "execution_count": 1413,
   "id": "d42f82c0",
   "metadata": {},
   "outputs": [],
   "source": [
    "# Build feature/target arrays\n",
    "X, y = data1.drop(\"label\", axis=1), data1[\"label\"].values.flatten()"
   ]
  },
  {
   "cell_type": "code",
   "execution_count": 1414,
   "id": "2834433f",
   "metadata": {},
   "outputs": [],
   "source": [
    "# Partition\n",
    "X_train, X_test, y_train, y_test = train_test_split(\n",
    "    X, y, random_state=8990, test_size=0.30, stratify=y\n",
    "\n",
    ")"
   ]
  },
  {
   "cell_type": "code",
   "execution_count": 1415,
   "id": "094878a7",
   "metadata": {},
   "outputs": [
    {
     "data": {
      "text/plain": [
       "Index(['Road Surface Condition', 'Ambient Light', 'Weather Condition', 'PRCP',\n",
       "       'SNOW', 'TMAX', 'TMIN', 'hour_category', 'season'],\n",
       "      dtype='object')"
      ]
     },
     "execution_count": 1415,
     "metadata": {},
     "output_type": "execute_result"
    }
   ],
   "source": [
    "X.columns"
   ]
  },
  {
   "cell_type": "code",
   "execution_count": 1416,
   "id": "90d1f4f4",
   "metadata": {},
   "outputs": [],
   "source": [
    "# categorical preprocessor\n",
    "categorical_cols = X.select_dtypes(include=\"object\").columns.to_list()\n",
    "categorical_pipe = make_pipeline(\n",
    "    OneHotEncoder(sparse=False, handle_unknown=\"ignore\")\n",
    "  )"
   ]
  },
  {
   "cell_type": "code",
   "execution_count": 1417,
   "id": "118a9131",
   "metadata": {},
   "outputs": [
    {
     "data": {
      "text/plain": [
       "['Road Surface Condition',\n",
       " 'Ambient Light',\n",
       " 'Weather Condition',\n",
       " 'hour_category',\n",
       " 'season']"
      ]
     },
     "execution_count": 1417,
     "metadata": {},
     "output_type": "execute_result"
    }
   ],
   "source": [
    "categorical_cols"
   ]
  },
  {
   "cell_type": "code",
   "execution_count": 1418,
   "id": "0b8dcf7d",
   "metadata": {},
   "outputs": [],
   "source": [
    "to_log = [\"PRCP\", \"SNOW\"]\n",
    "\n",
    "to_scale = [\"TMAX\",\"TMIN\"]\n",
    "numeric_pipe_1 = make_pipeline(PowerTransformer())\n",
    "numeric_pipe_2 = make_pipeline(StandardScaler())"
   ]
  },
  {
   "cell_type": "code",
   "execution_count": 1419,
   "id": "8c3eaaa6",
   "metadata": {},
   "outputs": [],
   "source": [
    "# the whole processor\n",
    "full = ColumnTransformer(\n",
    "    transformers=[\n",
    "        (\"categorical\", categorical_pipe, categorical_cols),\n",
    "        (\"power_transform\", numeric_pipe_1, to_log),\n",
    "        (\"standardization\", numeric_pipe_2, to_scale),\n",
    "    ]\n",
    ")"
   ]
  },
  {
   "cell_type": "code",
   "execution_count": 1420,
   "id": "0c90480c",
   "metadata": {},
   "outputs": [],
   "source": [
    "# Final pipeline combined with RandomForest\n",
    "pipeline = Pipeline(\n",
    "    steps=[\n",
    "        (\"preprocess\", full),\n",
    "        (\n",
    "            \"base\",\n",
    "            RandomForestClassifier(max_depth=10),\n",
    "        ),\n",
    "    ]\n",
    ")"
   ]
  },
  {
   "cell_type": "code",
   "execution_count": 1421,
   "id": "b65c53a2",
   "metadata": {},
   "outputs": [],
   "source": [
    "_ = pipeline.fit(X_train, y_train)"
   ]
  },
  {
   "cell_type": "code",
   "execution_count": 1422,
   "id": "cad0f965",
   "metadata": {},
   "outputs": [],
   "source": [
    "y_pred = pipeline.predict(X_test)"
   ]
  },
  {
   "cell_type": "code",
   "execution_count": 1423,
   "id": "ad23e1ba",
   "metadata": {},
   "outputs": [
    {
     "data": {
      "image/png": "[encoded data removed]",
      "text/plain": [
       "<Figure size 864x576 with 2 Axes>"
      ]
     },
     "metadata": {
      "needs_background": "light"
     },
     "output_type": "display_data"
    }
   ],
   "source": [
    "# confusion matrix\n",
    "fig, ax = plt.subplots(figsize=(12, 8))\n",
    "\n",
    "cm = confusion_matrix(y_test, y_pred)\n",
    "cmp = ConfusionMatrixDisplay(cm, display_labels=pipeline.classes_)\n",
    "cmp.plot(ax=ax)\n",
    "\n",
    "plt.show();"
   ]
  },
  {
   "cell_type": "code",
   "execution_count": 1424,
   "id": "661f744d",
   "metadata": {},
   "outputs": [
    {
     "name": "stdout",
     "output_type": "stream",
     "text": [
      "              precision    recall  f1-score   support\n",
      "\n",
      "           1       0.40      0.09      0.15      1461\n",
      "           2       0.00      0.00      0.00       273\n",
      "           4       0.00      0.00      0.00        63\n",
      "           5       0.38      0.07      0.11       428\n",
      "           7       0.00      0.00      0.00        40\n",
      "           8       0.45      0.94      0.61      1988\n",
      "           9       0.27      0.03      0.05       362\n",
      "\n",
      "    accuracy                           0.44      4615\n",
      "   macro avg       0.21      0.16      0.13      4615\n",
      "weighted avg       0.38      0.44      0.32      4615\n",
      "\n"
     ]
    },
    {
     "name": "stderr",
     "output_type": "stream",
     "text": [
      "/Users/miaoyu/opt/anaconda3/lib/python3.8/site-packages/sklearn/metrics/_classification.py:1318: UndefinedMetricWarning: Precision and F-score are ill-defined and being set to 0.0 in labels with no predicted samples. Use `zero_division` parameter to control this behavior.\n",
      "  _warn_prf(average, modifier, msg_start, len(result))\n",
      "/Users/miaoyu/opt/anaconda3/lib/python3.8/site-packages/sklearn/metrics/_classification.py:1318: UndefinedMetricWarning: Precision and F-score are ill-defined and being set to 0.0 in labels with no predicted samples. Use `zero_division` parameter to control this behavior.\n",
      "  _warn_prf(average, modifier, msg_start, len(result))\n",
      "/Users/miaoyu/opt/anaconda3/lib/python3.8/site-packages/sklearn/metrics/_classification.py:1318: UndefinedMetricWarning: Precision and F-score are ill-defined and being set to 0.0 in labels with no predicted samples. Use `zero_division` parameter to control this behavior.\n",
      "  _warn_prf(average, modifier, msg_start, len(result))\n"
     ]
    }
   ],
   "source": [
    "print(classification_report(y_test, y_pred))"
   ]
  },
  {
   "cell_type": "code",
   "execution_count": 999,
   "id": "0e012584",
   "metadata": {},
   "outputs": [],
   "source": [
    "from sklearn.svm import LinearSVC\n",
    "from sklearn.calibration import CalibratedClassifierCV"
   ]
  },
  {
   "cell_type": "code",
   "execution_count": 1001,
   "id": "a2e365c2",
   "metadata": {},
   "outputs": [],
   "source": [
    "from sklearn.feature_extraction.text import TfidfTransformer\n",
    "from sklearn.feature_extraction.text import CountVectorizer"
   ]
  },
  {
   "cell_type": "code",
   "execution_count": 1002,
   "id": "77d4ebd7",
   "metadata": {},
   "outputs": [],
   "source": [
    "from sklearn.preprocessing import LabelEncoder"
   ]
  },
  {
   "cell_type": "code",
   "execution_count": 1003,
   "id": "a7160de3",
   "metadata": {},
   "outputs": [],
   "source": [
    "count_vect=CountVectorizer()"
   ]
  },
  {
   "cell_type": "code",
   "execution_count": 1050,
   "id": "e5fcead0",
   "metadata": {},
   "outputs": [],
   "source": [
    "X_train_counts=count_vect.fit_transform(X_train)\n",
    "tf_transformer=TfidfTransformer().fit(X_train_counts)\n",
    "X_train_transformed=tf_transformer.transform(X_train_counts)"
   ]
  },
  {
   "cell_type": "code",
   "execution_count": 1054,
   "id": "ad975159",
   "metadata": {},
   "outputs": [],
   "source": [
    "X_test_counts=count_vect.transform(X_test)\n",
    "X_test_transformed=tf_transformer.transform(X_test_counts)"
   ]
  },
  {
   "cell_type": "code",
   "execution_count": 1057,
   "id": "dc1d5195",
   "metadata": {},
   "outputs": [],
   "source": [
    "labels=LabelEncoder()"
   ]
  },
  {
   "cell_type": "code",
   "execution_count": 1073,
   "id": "3b9bfd9a",
   "metadata": {},
   "outputs": [],
   "source": [
    "y_train_labels_fit=labels.fit(y_train)\n",
    "y_train_labels_trf=labels.transform(y_train)"
   ]
  },
  {
   "cell_type": "code",
   "execution_count": 1059,
   "id": "0943ab9f",
   "metadata": {},
   "outputs": [
    {
     "data": {
      "text/plain": [
       "LabelEncoder()"
      ]
     },
     "execution_count": 1059,
     "metadata": {},
     "output_type": "execute_result"
    }
   ],
   "source": [
    "y_train_labels_fit"
   ]
  },
  {
   "cell_type": "code",
   "execution_count": 1074,
   "id": "0fc2d299",
   "metadata": {},
   "outputs": [
    {
     "data": {
      "text/plain": [
       "array([7, 0, 3, ..., 3, 7, 6])"
      ]
     },
     "execution_count": 1074,
     "metadata": {},
     "output_type": "execute_result"
    }
   ],
   "source": [
    "y_train_labels_trf"
   ]
  },
  {
   "cell_type": "code",
   "execution_count": 1061,
   "id": "c83687e3",
   "metadata": {},
   "outputs": [
    {
     "name": "stdout",
     "output_type": "stream",
     "text": [
      "['1' '2' '4' '5' '6' '7' '8' '9']\n"
     ]
    }
   ],
   "source": [
    "print(labels.classes_)"
   ]
  },
  {
   "cell_type": "code",
   "execution_count": 1062,
   "id": "3df6da0f",
   "metadata": {},
   "outputs": [],
   "source": [
    "linear_svc=LinearSVC()"
   ]
  },
  {
   "cell_type": "code",
   "execution_count": 1072,
   "id": "adc62e63",
   "metadata": {},
   "outputs": [
    {
     "data": {
      "text/plain": [
       "array([['Wet', 'Rain', 0.0, ..., 36, 13, 'night'],\n",
       "       ['Dry', 'Clear', 0.0, ..., 39, 19, 'day'],\n",
       "       ['Dry', 'Clear', 0.0, ..., 39, 19, 'rush'],\n",
       "       ...,\n",
       "       ['Dry', 'Clear', 0.0, ..., 39, 21, 'night'],\n",
       "       ['Dry', 'Clear', 0.0, ..., 39, 21, 'rush'],\n",
       "       ['Dry', 'Clear', 0.0, ..., 39, 21, 'day']], dtype=object)"
      ]
     },
     "execution_count": 1072,
     "metadata": {},
     "output_type": "execute_result"
    }
   ],
   "source": [
    "np.array(X)"
   ]
  },
  {
   "cell_type": "code",
   "execution_count": 1069,
   "id": "6ffc22e9",
   "metadata": {},
   "outputs": [
    {
     "ename": "AttributeError",
     "evalue": "'DataFrame' object has no attribute 'reshape'",
     "output_type": "error",
     "traceback": [
      "\u001b[0;31m---------------------------------------------------------------------------\u001b[0m",
      "\u001b[0;31mAttributeError\u001b[0m                            Traceback (most recent call last)",
      "\u001b[0;32m<ipython-input-1069-43a609905eb5>\u001b[0m in \u001b[0;36m<module>\u001b[0;34m\u001b[0m\n\u001b[0;32m----> 1\u001b[0;31m \u001b[0mX\u001b[0m \u001b[0;34m=\u001b[0m \u001b[0mX\u001b[0m\u001b[0;34m.\u001b[0m\u001b[0mreshape\u001b[0m\u001b[0;34m(\u001b[0m\u001b[0mX\u001b[0m\u001b[0;34m.\u001b[0m\u001b[0mshape\u001b[0m\u001b[0;34m[\u001b[0m\u001b[0;36m1\u001b[0m\u001b[0;34m:\u001b[0m\u001b[0;34m]\u001b[0m\u001b[0;34m)\u001b[0m\u001b[0;34m\u001b[0m\u001b[0;34m\u001b[0m\u001b[0m\n\u001b[0m",
      "\u001b[0;32m~/opt/anaconda3/lib/python3.8/site-packages/pandas/core/generic.py\u001b[0m in \u001b[0;36m__getattr__\u001b[0;34m(self, name)\u001b[0m\n\u001b[1;32m   5463\u001b[0m             \u001b[0;32mif\u001b[0m \u001b[0mself\u001b[0m\u001b[0;34m.\u001b[0m\u001b[0m_info_axis\u001b[0m\u001b[0;34m.\u001b[0m\u001b[0m_can_hold_identifiers_and_holds_name\u001b[0m\u001b[0;34m(\u001b[0m\u001b[0mname\u001b[0m\u001b[0;34m)\u001b[0m\u001b[0;34m:\u001b[0m\u001b[0;34m\u001b[0m\u001b[0;34m\u001b[0m\u001b[0m\n\u001b[1;32m   5464\u001b[0m                 \u001b[0;32mreturn\u001b[0m \u001b[0mself\u001b[0m\u001b[0;34m[\u001b[0m\u001b[0mname\u001b[0m\u001b[0;34m]\u001b[0m\u001b[0;34m\u001b[0m\u001b[0;34m\u001b[0m\u001b[0m\n\u001b[0;32m-> 5465\u001b[0;31m             \u001b[0;32mreturn\u001b[0m \u001b[0mobject\u001b[0m\u001b[0;34m.\u001b[0m\u001b[0m__getattribute__\u001b[0m\u001b[0;34m(\u001b[0m\u001b[0mself\u001b[0m\u001b[0;34m,\u001b[0m \u001b[0mname\u001b[0m\u001b[0;34m)\u001b[0m\u001b[0;34m\u001b[0m\u001b[0;34m\u001b[0m\u001b[0m\n\u001b[0m\u001b[1;32m   5466\u001b[0m \u001b[0;34m\u001b[0m\u001b[0m\n\u001b[1;32m   5467\u001b[0m     \u001b[0;32mdef\u001b[0m \u001b[0m__setattr__\u001b[0m\u001b[0;34m(\u001b[0m\u001b[0mself\u001b[0m\u001b[0;34m,\u001b[0m \u001b[0mname\u001b[0m\u001b[0;34m:\u001b[0m \u001b[0mstr\u001b[0m\u001b[0;34m,\u001b[0m \u001b[0mvalue\u001b[0m\u001b[0;34m)\u001b[0m \u001b[0;34m->\u001b[0m \u001b[0;32mNone\u001b[0m\u001b[0;34m:\u001b[0m\u001b[0;34m\u001b[0m\u001b[0;34m\u001b[0m\u001b[0m\n",
      "\u001b[0;31mAttributeError\u001b[0m: 'DataFrame' object has no attribute 'reshape'"
     ]
    }
   ],
   "source": [
    "X = X.reshape(X.shape[1:])"
   ]
  },
  {
   "cell_type": "code",
   "execution_count": 1075,
   "id": "c5caa752",
   "metadata": {},
   "outputs": [
    {
     "ename": "ValueError",
     "evalue": "Found input variables with inconsistent numbers of samples: [15, 12698]",
     "output_type": "error",
     "traceback": [
      "\u001b[0;31m---------------------------------------------------------------------------\u001b[0m",
      "\u001b[0;31mValueError\u001b[0m                                Traceback (most recent call last)",
      "\u001b[0;32m<ipython-input-1075-99180245ea57>\u001b[0m in \u001b[0;36m<module>\u001b[0;34m\u001b[0m\n\u001b[0;32m----> 1\u001b[0;31m \u001b[0mclf\u001b[0m\u001b[0;34m=\u001b[0m\u001b[0mlinear_svc\u001b[0m\u001b[0;34m.\u001b[0m\u001b[0mfit\u001b[0m\u001b[0;34m(\u001b[0m\u001b[0mX_train_transformed\u001b[0m\u001b[0;34m,\u001b[0m \u001b[0my_train_labels_trf\u001b[0m\u001b[0;34m)\u001b[0m\u001b[0;34m\u001b[0m\u001b[0;34m\u001b[0m\u001b[0m\n\u001b[0m",
      "\u001b[0;32m~/opt/anaconda3/lib/python3.8/site-packages/sklearn/svm/_classes.py\u001b[0m in \u001b[0;36mfit\u001b[0;34m(self, X, y, sample_weight)\u001b[0m\n\u001b[1;32m    244\u001b[0m             \u001b[0;32mraise\u001b[0m \u001b[0mValueError\u001b[0m\u001b[0;34m(\u001b[0m\u001b[0;34m\"Penalty term must be positive; got (C=%r)\"\u001b[0m \u001b[0;34m%\u001b[0m \u001b[0mself\u001b[0m\u001b[0;34m.\u001b[0m\u001b[0mC\u001b[0m\u001b[0;34m)\u001b[0m\u001b[0;34m\u001b[0m\u001b[0;34m\u001b[0m\u001b[0m\n\u001b[1;32m    245\u001b[0m \u001b[0;34m\u001b[0m\u001b[0m\n\u001b[0;32m--> 246\u001b[0;31m         X, y = self._validate_data(\n\u001b[0m\u001b[1;32m    247\u001b[0m             \u001b[0mX\u001b[0m\u001b[0;34m,\u001b[0m\u001b[0;34m\u001b[0m\u001b[0;34m\u001b[0m\u001b[0m\n\u001b[1;32m    248\u001b[0m             \u001b[0my\u001b[0m\u001b[0;34m,\u001b[0m\u001b[0;34m\u001b[0m\u001b[0;34m\u001b[0m\u001b[0m\n",
      "\u001b[0;32m~/opt/anaconda3/lib/python3.8/site-packages/sklearn/base.py\u001b[0m in \u001b[0;36m_validate_data\u001b[0;34m(self, X, y, reset, validate_separately, **check_params)\u001b[0m\n\u001b[1;32m    579\u001b[0m                 \u001b[0my\u001b[0m \u001b[0;34m=\u001b[0m \u001b[0mcheck_array\u001b[0m\u001b[0;34m(\u001b[0m\u001b[0my\u001b[0m\u001b[0;34m,\u001b[0m \u001b[0;34m**\u001b[0m\u001b[0mcheck_y_params\u001b[0m\u001b[0;34m)\u001b[0m\u001b[0;34m\u001b[0m\u001b[0;34m\u001b[0m\u001b[0m\n\u001b[1;32m    580\u001b[0m             \u001b[0;32melse\u001b[0m\u001b[0;34m:\u001b[0m\u001b[0;34m\u001b[0m\u001b[0;34m\u001b[0m\u001b[0m\n\u001b[0;32m--> 581\u001b[0;31m                 \u001b[0mX\u001b[0m\u001b[0;34m,\u001b[0m \u001b[0my\u001b[0m \u001b[0;34m=\u001b[0m \u001b[0mcheck_X_y\u001b[0m\u001b[0;34m(\u001b[0m\u001b[0mX\u001b[0m\u001b[0;34m,\u001b[0m \u001b[0my\u001b[0m\u001b[0;34m,\u001b[0m \u001b[0;34m**\u001b[0m\u001b[0mcheck_params\u001b[0m\u001b[0;34m)\u001b[0m\u001b[0;34m\u001b[0m\u001b[0;34m\u001b[0m\u001b[0m\n\u001b[0m\u001b[1;32m    582\u001b[0m             \u001b[0mout\u001b[0m \u001b[0;34m=\u001b[0m \u001b[0mX\u001b[0m\u001b[0;34m,\u001b[0m \u001b[0my\u001b[0m\u001b[0;34m\u001b[0m\u001b[0;34m\u001b[0m\u001b[0m\n\u001b[1;32m    583\u001b[0m \u001b[0;34m\u001b[0m\u001b[0m\n",
      "\u001b[0;32m~/opt/anaconda3/lib/python3.8/site-packages/sklearn/utils/validation.py\u001b[0m in \u001b[0;36mcheck_X_y\u001b[0;34m(X, y, accept_sparse, accept_large_sparse, dtype, order, copy, force_all_finite, ensure_2d, allow_nd, multi_output, ensure_min_samples, ensure_min_features, y_numeric, estimator)\u001b[0m\n\u001b[1;32m    979\u001b[0m     \u001b[0my\u001b[0m \u001b[0;34m=\u001b[0m \u001b[0m_check_y\u001b[0m\u001b[0;34m(\u001b[0m\u001b[0my\u001b[0m\u001b[0;34m,\u001b[0m \u001b[0mmulti_output\u001b[0m\u001b[0;34m=\u001b[0m\u001b[0mmulti_output\u001b[0m\u001b[0;34m,\u001b[0m \u001b[0my_numeric\u001b[0m\u001b[0;34m=\u001b[0m\u001b[0my_numeric\u001b[0m\u001b[0;34m)\u001b[0m\u001b[0;34m\u001b[0m\u001b[0;34m\u001b[0m\u001b[0m\n\u001b[1;32m    980\u001b[0m \u001b[0;34m\u001b[0m\u001b[0m\n\u001b[0;32m--> 981\u001b[0;31m     \u001b[0mcheck_consistent_length\u001b[0m\u001b[0;34m(\u001b[0m\u001b[0mX\u001b[0m\u001b[0;34m,\u001b[0m \u001b[0my\u001b[0m\u001b[0;34m)\u001b[0m\u001b[0;34m\u001b[0m\u001b[0;34m\u001b[0m\u001b[0m\n\u001b[0m\u001b[1;32m    982\u001b[0m \u001b[0;34m\u001b[0m\u001b[0m\n\u001b[1;32m    983\u001b[0m     \u001b[0;32mreturn\u001b[0m \u001b[0mX\u001b[0m\u001b[0;34m,\u001b[0m \u001b[0my\u001b[0m\u001b[0;34m\u001b[0m\u001b[0;34m\u001b[0m\u001b[0m\n",
      "\u001b[0;32m~/opt/anaconda3/lib/python3.8/site-packages/sklearn/utils/validation.py\u001b[0m in \u001b[0;36mcheck_consistent_length\u001b[0;34m(*arrays)\u001b[0m\n\u001b[1;32m    330\u001b[0m     \u001b[0muniques\u001b[0m \u001b[0;34m=\u001b[0m \u001b[0mnp\u001b[0m\u001b[0;34m.\u001b[0m\u001b[0munique\u001b[0m\u001b[0;34m(\u001b[0m\u001b[0mlengths\u001b[0m\u001b[0;34m)\u001b[0m\u001b[0;34m\u001b[0m\u001b[0;34m\u001b[0m\u001b[0m\n\u001b[1;32m    331\u001b[0m     \u001b[0;32mif\u001b[0m \u001b[0mlen\u001b[0m\u001b[0;34m(\u001b[0m\u001b[0muniques\u001b[0m\u001b[0;34m)\u001b[0m \u001b[0;34m>\u001b[0m \u001b[0;36m1\u001b[0m\u001b[0;34m:\u001b[0m\u001b[0;34m\u001b[0m\u001b[0;34m\u001b[0m\u001b[0m\n\u001b[0;32m--> 332\u001b[0;31m         raise ValueError(\n\u001b[0m\u001b[1;32m    333\u001b[0m             \u001b[0;34m\"Found input variables with inconsistent numbers of samples: %r\"\u001b[0m\u001b[0;34m\u001b[0m\u001b[0;34m\u001b[0m\u001b[0m\n\u001b[1;32m    334\u001b[0m             \u001b[0;34m%\u001b[0m \u001b[0;34m[\u001b[0m\u001b[0mint\u001b[0m\u001b[0;34m(\u001b[0m\u001b[0ml\u001b[0m\u001b[0;34m)\u001b[0m \u001b[0;32mfor\u001b[0m \u001b[0ml\u001b[0m \u001b[0;32min\u001b[0m \u001b[0mlengths\u001b[0m\u001b[0;34m]\u001b[0m\u001b[0;34m\u001b[0m\u001b[0;34m\u001b[0m\u001b[0m\n",
      "\u001b[0;31mValueError\u001b[0m: Found input variables with inconsistent numbers of samples: [15, 12698]"
     ]
    }
   ],
   "source": [
    "clf=linear_svc.fit(X_train_transformed, y_train_labels_trf)"
   ]
  },
  {
   "cell_type": "code",
   "execution_count": null,
   "id": "99f8b1c5",
   "metadata": {},
   "outputs": [],
   "source": []
  },
  {
   "cell_type": "code",
   "execution_count": 752,
   "id": "ea768105",
   "metadata": {},
   "outputs": [],
   "source": [
    "n_estimators = [int(x) for x in np.linspace(start=200, stop=2000, num=10)]\n",
    "max_depth = [int(x) for x in np.linspace(10, 110, num=11)]\n",
    "min_samples_split = [2, 5, 7, 10]\n",
    "min_samples_leaf = [1, 2, 3, 4]\n",
    "\n",
    "param_grid = {\n",
    "    \"base__n_estimators\": n_estimators,\n",
    "    \"base__max_depth\": max_depth,\n",
    "    \"base__min_samples_split\": min_samples_split,\n",
    "    \"base__min_samples_leaf\": min_samples_leaf,\n",
    "}"
   ]
  },
  {
   "cell_type": "code",
   "execution_count": 754,
   "id": "d62e3f12",
   "metadata": {},
   "outputs": [],
   "source": [
    "from sklearn.metrics import make_scorer\n",
    "\n",
    "custom_f1 = make_scorer(\n",
    "    f1_score, greater_is_better=True, average=\"weighted\", labels=[\"1\", \"8\"]\n",
    "  )"
   ]
  },
  {
   "cell_type": "code",
   "execution_count": 756,
   "id": "8f954388",
   "metadata": {},
   "outputs": [],
   "source": [
    "from sklearn.experimental import enable_halving_search_cv\n",
    "from sklearn.model_selection import HalvingRandomSearchCV\n",
    "\n",
    "hrs = HalvingRandomSearchCV(\n",
    "    estimator=pipeline,\n",
    "    param_distributions=param_grid,\n",
    "    scoring=custom_f1,\n",
    "    cv=3,\n",
    "    n_candidates=\"exhaust\",\n",
    "    factor=5,\n",
    "    n_jobs=-1,\n",
    ")"
   ]
  },
  {
   "cell_type": "code",
   "execution_count": 759,
   "id": "1b0388ad",
   "metadata": {},
   "outputs": [],
   "source": [
    "# Fit\n",
    "_ = hrs.fit(X, y)"
   ]
  },
  {
   "cell_type": "code",
   "execution_count": 762,
   "id": "f0920f15",
   "metadata": {},
   "outputs": [
    {
     "data": {
      "text/plain": [
       "0.7365150505273188"
      ]
     },
     "execution_count": 762,
     "metadata": {},
     "output_type": "execute_result"
    }
   ],
   "source": [
    "# Score\n",
    "best_estimator = hrs.best_estimator_\n",
    "\n",
    "y_preds = hrs.predict(X_test)\n",
    "\n",
    "f1_score(y_test, y_preds, average=\"weighted\", labels=[\"1\", \"8\"])"
   ]
  },
  {
   "cell_type": "markdown",
   "id": "bf5d0d2a",
   "metadata": {},
   "source": [
    "# Other models -- All lower than 39%"
   ]
  },
  {
   "cell_type": "code",
   "execution_count": 675,
   "id": "21172c2e",
   "metadata": {},
   "outputs": [],
   "source": [
    "dummies = pd.get_dummies(data1[ 'Weather Condition'])\n",
    "dummies2 = pd.get_dummies(data1['hour_category'])"
   ]
  },
  {
   "cell_type": "code",
   "execution_count": 676,
   "id": "e70966db",
   "metadata": {},
   "outputs": [
    {
     "data": {
      "text/html": [
       "<div>\n",
       "<style scoped>\n",
       "    .dataframe tbody tr th:only-of-type {\n",
       "        vertical-align: middle;\n",
       "    }\n",
       "\n",
       "    .dataframe tbody tr th {\n",
       "        vertical-align: top;\n",
       "    }\n",
       "\n",
       "    .dataframe thead th {\n",
       "        text-align: right;\n",
       "    }\n",
       "</style>\n",
       "<table border=\"1\" class=\"dataframe\">\n",
       "  <thead>\n",
       "    <tr style=\"text-align: right;\">\n",
       "      <th></th>\n",
       "      <th>PRCP</th>\n",
       "      <th>SNOW</th>\n",
       "      <th>TMAX</th>\n",
       "      <th>TMIN</th>\n",
       "      <th>PRCP-1</th>\n",
       "      <th>SNOW-1</th>\n",
       "      <th>TMAX-1</th>\n",
       "      <th>TMIN-1</th>\n",
       "      <th>PRCP-2</th>\n",
       "      <th>SNOW-2</th>\n",
       "      <th>...</th>\n",
       "      <th>label</th>\n",
       "      <th>Clear</th>\n",
       "      <th>Cloudy</th>\n",
       "      <th>Cloudy/Rain</th>\n",
       "      <th>Fog</th>\n",
       "      <th>Rain</th>\n",
       "      <th>Snow</th>\n",
       "      <th>day</th>\n",
       "      <th>night</th>\n",
       "      <th>rush</th>\n",
       "    </tr>\n",
       "  </thead>\n",
       "  <tbody>\n",
       "    <tr>\n",
       "      <th>0</th>\n",
       "      <td>0.0</td>\n",
       "      <td>0.0</td>\n",
       "      <td>39</td>\n",
       "      <td>19</td>\n",
       "      <td>0.0</td>\n",
       "      <td>0.0</td>\n",
       "      <td>39</td>\n",
       "      <td>19</td>\n",
       "      <td>0.0</td>\n",
       "      <td>0.0</td>\n",
       "      <td>...</td>\n",
       "      <td>8</td>\n",
       "      <td>0</td>\n",
       "      <td>0</td>\n",
       "      <td>0</td>\n",
       "      <td>0</td>\n",
       "      <td>1</td>\n",
       "      <td>0</td>\n",
       "      <td>0</td>\n",
       "      <td>1</td>\n",
       "      <td>0</td>\n",
       "    </tr>\n",
       "    <tr>\n",
       "      <th>1</th>\n",
       "      <td>0.0</td>\n",
       "      <td>0.0</td>\n",
       "      <td>39</td>\n",
       "      <td>19</td>\n",
       "      <td>0.0</td>\n",
       "      <td>0.0</td>\n",
       "      <td>39</td>\n",
       "      <td>19</td>\n",
       "      <td>0.0</td>\n",
       "      <td>0.0</td>\n",
       "      <td>...</td>\n",
       "      <td>8</td>\n",
       "      <td>1</td>\n",
       "      <td>0</td>\n",
       "      <td>0</td>\n",
       "      <td>0</td>\n",
       "      <td>0</td>\n",
       "      <td>0</td>\n",
       "      <td>1</td>\n",
       "      <td>0</td>\n",
       "      <td>0</td>\n",
       "    </tr>\n",
       "    <tr>\n",
       "      <th>2</th>\n",
       "      <td>0.0</td>\n",
       "      <td>0.0</td>\n",
       "      <td>38</td>\n",
       "      <td>22</td>\n",
       "      <td>0.0</td>\n",
       "      <td>0.0</td>\n",
       "      <td>39</td>\n",
       "      <td>19</td>\n",
       "      <td>0.0</td>\n",
       "      <td>0.0</td>\n",
       "      <td>...</td>\n",
       "      <td>7</td>\n",
       "      <td>1</td>\n",
       "      <td>0</td>\n",
       "      <td>0</td>\n",
       "      <td>0</td>\n",
       "      <td>0</td>\n",
       "      <td>0</td>\n",
       "      <td>0</td>\n",
       "      <td>0</td>\n",
       "      <td>1</td>\n",
       "    </tr>\n",
       "    <tr>\n",
       "      <th>3</th>\n",
       "      <td>0.0</td>\n",
       "      <td>0.0</td>\n",
       "      <td>38</td>\n",
       "      <td>22</td>\n",
       "      <td>0.0</td>\n",
       "      <td>0.0</td>\n",
       "      <td>38</td>\n",
       "      <td>22</td>\n",
       "      <td>0.0</td>\n",
       "      <td>0.0</td>\n",
       "      <td>...</td>\n",
       "      <td>8</td>\n",
       "      <td>1</td>\n",
       "      <td>0</td>\n",
       "      <td>0</td>\n",
       "      <td>0</td>\n",
       "      <td>0</td>\n",
       "      <td>0</td>\n",
       "      <td>0</td>\n",
       "      <td>0</td>\n",
       "      <td>1</td>\n",
       "    </tr>\n",
       "    <tr>\n",
       "      <th>4</th>\n",
       "      <td>0.0</td>\n",
       "      <td>0.0</td>\n",
       "      <td>36</td>\n",
       "      <td>16</td>\n",
       "      <td>0.0</td>\n",
       "      <td>0.0</td>\n",
       "      <td>38</td>\n",
       "      <td>22</td>\n",
       "      <td>0.0</td>\n",
       "      <td>0.0</td>\n",
       "      <td>...</td>\n",
       "      <td>1</td>\n",
       "      <td>1</td>\n",
       "      <td>0</td>\n",
       "      <td>0</td>\n",
       "      <td>0</td>\n",
       "      <td>0</td>\n",
       "      <td>0</td>\n",
       "      <td>0</td>\n",
       "      <td>0</td>\n",
       "      <td>1</td>\n",
       "    </tr>\n",
       "  </tbody>\n",
       "</table>\n",
       "<p>5 rows × 22 columns</p>\n",
       "</div>"
      ],
      "text/plain": [
       "   PRCP  SNOW  TMAX  TMIN  PRCP-1  SNOW-1  TMAX-1  TMIN-1  PRCP-2  SNOW-2  \\\n",
       "0   0.0   0.0    39    19     0.0     0.0      39      19     0.0     0.0   \n",
       "1   0.0   0.0    39    19     0.0     0.0      39      19     0.0     0.0   \n",
       "2   0.0   0.0    38    22     0.0     0.0      39      19     0.0     0.0   \n",
       "3   0.0   0.0    38    22     0.0     0.0      38      22     0.0     0.0   \n",
       "4   0.0   0.0    36    16     0.0     0.0      38      22     0.0     0.0   \n",
       "\n",
       "   ...  label  Clear Cloudy  Cloudy/Rain  Fog  Rain  Snow  day  night  rush  \n",
       "0  ...      8      0      0            0    0     1     0    0      1     0  \n",
       "1  ...      8      1      0            0    0     0     0    1      0     0  \n",
       "2  ...      7      1      0            0    0     0     0    0      0     1  \n",
       "3  ...      8      1      0            0    0     0     0    0      0     1  \n",
       "4  ...      1      1      0            0    0     0     0    0      0     1  \n",
       "\n",
       "[5 rows x 22 columns]"
      ]
     },
     "execution_count": 676,
     "metadata": {},
     "output_type": "execute_result"
    }
   ],
   "source": [
    "data2 = pd.concat([data1, dummies, dummies2], axis= 1)\n",
    "data2 = data2.drop(['Weather Condition','hour_category'], axis=1)\n",
    "\n",
    "data2.head()"
   ]
  },
  {
   "cell_type": "code",
   "execution_count": 677,
   "id": "6ff40812",
   "metadata": {},
   "outputs": [],
   "source": [
    "X2, y2 = data2.drop(\"label\", axis=1), data2[\"label\"]"
   ]
  },
  {
   "cell_type": "code",
   "execution_count": 690,
   "id": "c44cc442",
   "metadata": {},
   "outputs": [],
   "source": [
    "X2_train, X2_test, y2_train, y2_test = train_test_split(\n",
    "    X2, y2, random_state=8990, test_size=0.30, stratify=y\n",
    ")"
   ]
  },
  {
   "cell_type": "markdown",
   "id": "35684021",
   "metadata": {},
   "source": [
    "# SVC"
   ]
  },
  {
   "cell_type": "code",
   "execution_count": 691,
   "id": "1942ee05",
   "metadata": {},
   "outputs": [],
   "source": [
    "from sklearn.preprocessing import StandardScaler\n",
    "\n",
    "scaler=StandardScaler()"
   ]
  },
  {
   "cell_type": "code",
   "execution_count": 692,
   "id": "bfd79ba6",
   "metadata": {},
   "outputs": [],
   "source": [
    "X2_train = pd.DataFrame(scaler.fit_transform(X2_train))"
   ]
  },
  {
   "cell_type": "code",
   "execution_count": 693,
   "id": "d8b6ca10",
   "metadata": {},
   "outputs": [],
   "source": [
    "X2_test = pd.DataFrame(scaler.transform(X2_test))"
   ]
  },
  {
   "cell_type": "code",
   "execution_count": 694,
   "id": "5722d510",
   "metadata": {},
   "outputs": [],
   "source": [
    "from sklearn.svm import SVC"
   ]
  },
  {
   "cell_type": "code",
   "execution_count": 695,
   "id": "8f1df424",
   "metadata": {},
   "outputs": [],
   "source": [
    "model_svc=SVC()\n",
    "model_svc.fit(X2_train, y2_train)\n",
    "y2_pred=model_svc.predict(X2_test)"
   ]
  },
  {
   "cell_type": "code",
   "execution_count": 696,
   "id": "fd9a6c91",
   "metadata": {},
   "outputs": [
    {
     "name": "stdout",
     "output_type": "stream",
     "text": [
      "              precision    recall  f1-score   support\n",
      "\n",
      "           1       0.30      0.06      0.10      1653\n",
      "           2       0.00      0.00      0.00       291\n",
      "           4       0.00      0.00      0.00       229\n",
      "           5       0.20      0.00      0.00       559\n",
      "           6       0.00      0.00      0.00         4\n",
      "           7       0.00      0.00      0.00       132\n",
      "           8       0.40      0.95      0.56      2157\n",
      "           9       0.00      0.00      0.00       428\n",
      "\n",
      "    accuracy                           0.39      5453\n",
      "   macro avg       0.11      0.13      0.08      5453\n",
      "weighted avg       0.27      0.39      0.25      5453\n",
      "\n"
     ]
    },
    {
     "name": "stderr",
     "output_type": "stream",
     "text": [
      "/Users/miaoyu/opt/anaconda3/lib/python3.8/site-packages/sklearn/metrics/_classification.py:1318: UndefinedMetricWarning: Precision and F-score are ill-defined and being set to 0.0 in labels with no predicted samples. Use `zero_division` parameter to control this behavior.\n",
      "  _warn_prf(average, modifier, msg_start, len(result))\n",
      "/Users/miaoyu/opt/anaconda3/lib/python3.8/site-packages/sklearn/metrics/_classification.py:1318: UndefinedMetricWarning: Precision and F-score are ill-defined and being set to 0.0 in labels with no predicted samples. Use `zero_division` parameter to control this behavior.\n",
      "  _warn_prf(average, modifier, msg_start, len(result))\n",
      "/Users/miaoyu/opt/anaconda3/lib/python3.8/site-packages/sklearn/metrics/_classification.py:1318: UndefinedMetricWarning: Precision and F-score are ill-defined and being set to 0.0 in labels with no predicted samples. Use `zero_division` parameter to control this behavior.\n",
      "  _warn_prf(average, modifier, msg_start, len(result))\n"
     ]
    }
   ],
   "source": [
    "print(classification_report(y2_test, y2_pred))"
   ]
  },
  {
   "cell_type": "markdown",
   "id": "658a6c88",
   "metadata": {},
   "source": [
    "# Decision Tree"
   ]
  },
  {
   "cell_type": "code",
   "execution_count": 562,
   "id": "2c18ecdf",
   "metadata": {},
   "outputs": [],
   "source": [
    "from sklearn.tree import DecisionTreeClassifier\n",
    "\n",
    "model_dt=DecisionTreeClassifier(class_weight='balanced', max_depth=5)\n",
    "\n",
    "model_dt.fit(X2_train, y2_train)\n",
    "\n",
    "y3_pred=model_dt.predict(X2_test)"
   ]
  },
  {
   "cell_type": "code",
   "execution_count": 563,
   "id": "21581ef4",
   "metadata": {},
   "outputs": [
    {
     "name": "stdout",
     "output_type": "stream",
     "text": [
      "              precision    recall  f1-score   support\n",
      "\n",
      "           1       0.20      0.00      0.01      1818\n",
      "           2       0.07      0.20      0.10       320\n",
      "           4       0.08      0.05      0.06       252\n",
      "           5       0.00      0.00      0.00       615\n",
      "           6       0.00      0.20      0.01         5\n",
      "           7       0.05      0.04      0.05       145\n",
      "           8       0.40      0.51      0.45      2373\n",
      "           9       0.09      0.27      0.13       470\n",
      "\n",
      "    accuracy                           0.24      5998\n",
      "   macro avg       0.11      0.16      0.10      5998\n",
      "weighted avg       0.23      0.24      0.20      5998\n",
      "\n"
     ]
    }
   ],
   "source": [
    "print(classification_report(y2_test, y3_pred))"
   ]
  },
  {
   "cell_type": "markdown",
   "id": "a1e8cba1",
   "metadata": {},
   "source": [
    "# Random Forest"
   ]
  },
  {
   "cell_type": "code",
   "execution_count": 450,
   "id": "59413e73",
   "metadata": {},
   "outputs": [],
   "source": [
    "from sklearn.ensemble import RandomForestClassifier"
   ]
  },
  {
   "cell_type": "code",
   "execution_count": 451,
   "id": "afa36fb5",
   "metadata": {},
   "outputs": [],
   "source": [
    "model_rf=RandomForestClassifier(class_weight='balanced', random_state=1, max_depth=5,\n",
    "                                 n_estimators=10, max_features=1)"
   ]
  },
  {
   "cell_type": "code",
   "execution_count": 565,
   "id": "458b7f91",
   "metadata": {},
   "outputs": [],
   "source": [
    "model_rf.fit(X2_train, y2_train)\n",
    "\n",
    "y4_pred=model_rf.predict(X2_test)"
   ]
  },
  {
   "cell_type": "code",
   "execution_count": 566,
   "id": "22a158a3",
   "metadata": {},
   "outputs": [
    {
     "name": "stdout",
     "output_type": "stream",
     "text": [
      "              precision    recall  f1-score   support\n",
      "\n",
      "           1       0.41      0.04      0.07      1818\n",
      "           2       0.06      0.42      0.11       320\n",
      "           4       0.05      0.13      0.08       252\n",
      "           5       0.16      0.14      0.15       615\n",
      "           6       0.01      0.20      0.01         5\n",
      "           7       0.04      0.28      0.07       145\n",
      "           8       0.40      0.03      0.06      2373\n",
      "           9       0.08      0.20      0.12       470\n",
      "\n",
      "    accuracy                           0.09      5998\n",
      "   macro avg       0.15      0.18      0.08      5998\n",
      "weighted avg       0.31      0.09      0.08      5998\n",
      "\n"
     ]
    }
   ],
   "source": [
    "print(classification_report(y2_test, y4_pred))"
   ]
  },
  {
   "cell_type": "code",
   "execution_count": null,
   "id": "91240dd1",
   "metadata": {},
   "outputs": [],
   "source": []
  }
 ],
 "metadata": {
  "kernelspec": {
   "display_name": "Python 3",
   "language": "python",
   "name": "python3"
  },
  "language_info": {
   "codemirror_mode": {
    "name": "ipython",
    "version": 3
   },
   "file_extension": ".py",
   "mimetype": "text/x-python",
   "name": "python",
   "nbconvert_exporter": "python",
   "pygments_lexer": "ipython3",
   "version": "3.8.8"
  }
 },
 "nbformat": 4,
 "nbformat_minor": 5
}
